{
 "cells": [
  {
   "cell_type": "markdown",
   "id": "47c76d6b",
   "metadata": {},
   "source": [
    " Solving the Frozen Lake Problem with Policy Iteration\n"
   ]
  },
  {
   "cell_type": "code",
   "execution_count": 1,
   "id": "b6f84f5e",
   "metadata": {},
   "outputs": [],
   "source": [
    "# Import the libraries\n",
    "import gym\n",
    "import numpy as np"
   ]
  },
  {
   "cell_type": "code",
   "execution_count": 2,
   "id": "7896dc09",
   "metadata": {},
   "outputs": [],
   "source": [
    "# create the frozen lake environment using gym:\n",
    "env = gym.make('FrozenLake-v1')"
   ]
  },
  {
   "cell_type": "code",
   "execution_count": 3,
   "id": "b8ecc352",
   "metadata": {},
   "outputs": [],
   "source": [
    "# Computing value function using policy\n",
    "\n",
    "# Define a function called compute_value_function \n",
    "# which takes the policy as a parameter:\n",
    "def compute_value_function(policy):\n",
    "    \n",
    "    # Define the number of iterations\n",
    "    num_iterations = 1000\n",
    "    \n",
    "    # Define the threshold value\n",
    "    threshold = 1e-20\n",
    "    \n",
    "    # Set the discount factor\n",
    "    gamma = 1.0\n",
    "    \n",
    "    # Initialize the value table, with the value of all states to zero\n",
    "    value_table = np.zeros(env.observation_space.n)\n",
    "    \n",
    "    # for every iteration\n",
    "    for i in range(num_iterations):\n",
    "        \n",
    "        # update the value table, \n",
    "        # that is, we learned that on every iteration, \n",
    "        # we use the updated value table (state values)\n",
    "        # from the previous iteration\n",
    "        updated_value_table = np.copy(value_table)\n",
    "        \n",
    "        \n",
    "\n",
    "        # thus, for each state, we select the action according \n",
    "        # to the given policy and then we update the\n",
    "        # value of the state using the selected action as shown below\n",
    "        \n",
    "        # for each state\n",
    "        for s in range(env.observation_space.n):\n",
    "            \n",
    "            # select the action in the state according to the policy\n",
    "            a = policy[s]\n",
    "            \n",
    "            # compute the value of the state using the selected action\n",
    "            value_table[s] = sum([prob * (r + gamma * updated_value_table[s_]) \n",
    "                                        for prob, s_, r, _ in env.P[s][a]])\n",
    "            \n",
    "        # after computing the value table, that is, value of all the states, we check whether the\n",
    "        # difference between value table obtained in the current iteration and previous iteration is\n",
    "        # less than or equal to a threshold value if it is less then we break the loop and return the\n",
    "        # value table as an accurate value function of the given policy\n",
    "\n",
    "        if (np.sum((np.fabs(updated_value_table - value_table))) <= threshold):\n",
    "            break\n",
    "            \n",
    "    return value_table\n"
   ]
  },
  {
   "cell_type": "code",
   "execution_count": 4,
   "id": "8cac9a05",
   "metadata": {},
   "outputs": [],
   "source": [
    "# Extracting policy from the value function\n",
    "\n",
    "# We define a function called extract_policy to extract \n",
    "# a policy given the value function as shown below:\n",
    "def extract_policy(value_table):\n",
    "    \n",
    "    # set the discount factor\n",
    "    gamma = 1.0\n",
    "     \n",
    "    # Initialize the policy with zeros\n",
    "    policy = np.zeros(env.observation_space.n) \n",
    "\n",
    "    \n",
    "    # For each state, we compute the Q values for all the actions in the state and\n",
    "    # then we extract policy by selecting the action which has maximum Q value.\n",
    "    \n",
    "    # for each state\n",
    "    for s in range(env.observation_space.n):\n",
    "        \n",
    "        # compute the Q value of all the actions in the state\n",
    "        Q_values = [sum([prob*(r + gamma * value_table[s_])\n",
    "                             for prob, s_, r, _ in env.P[s][a]]) \n",
    "                                   for a in range(env.action_space.n)] \n",
    "                \n",
    "        # extract policy by selecting the action which has maximum Q value\n",
    "        policy[s] = np.argmax(np.array(Q_values))        \n",
    "    \n",
    "    return policy"
   ]
  },
  {
   "cell_type": "code",
   "execution_count": 5,
   "id": "dbf5b651",
   "metadata": {},
   "outputs": [],
   "source": [
    "# Putting it all together\n",
    "# First, let's define a function called \"policy_iteration\" \n",
    "# which takes the environment as a parameter\n",
    "def policy_iteration(env):\n",
    "    \n",
    "    # set the number of iterations\n",
    "    num_iterations = 1000\n",
    "\n",
    "    # We will initialize the random policy which selects the action 0 in all the states\n",
    "    policy = np.zeros(env.observation_space.n)  \n",
    "    \n",
    "    # for every iteration\n",
    "    for i in range(num_iterations):\n",
    "        # compute the value function using the policy\n",
    "        value_function = compute_value_function(policy)\n",
    "        \n",
    "        # extract the new policy from the computed value function\n",
    "        new_policy = extract_policy(value_function)\n",
    "           \n",
    "        # if the policy and new_policy are same \n",
    "        if (np.all(policy == new_policy)):\n",
    "            \n",
    "            # then break the loop\n",
    "            break        \n",
    "        # else, update the \"current policy\" to\" new_policy\"\n",
    "        policy = new_policy\n",
    "        \n",
    "    return policy"
   ]
  },
  {
   "cell_type": "code",
   "execution_count": 6,
   "id": "de14b974",
   "metadata": {},
   "outputs": [],
   "source": [
    "# Now, let's learn how to perform policy iteration \n",
    "# and find the optimal policy in the frozen lake environment.\n",
    "\n",
    "# So, we just feed the frozen lake environment to our \n",
    "# policy_iteration function and get the optimal policy:\n",
    "\n",
    "optimal_policy = policy_iteration(env)"
   ]
  },
  {
   "cell_type": "code",
   "execution_count": 7,
   "id": "fbbb4fbb",
   "metadata": {},
   "outputs": [
    {
     "name": "stdout",
     "output_type": "stream",
     "text": [
      "[0. 3. 3. 3. 0. 0. 0. 0. 3. 1. 0. 0. 0. 2. 1. 0.]\n"
     ]
    }
   ],
   "source": [
    "# Print the optimal policy:\n",
    "print(optimal_policy)"
   ]
  },
  {
   "cell_type": "code",
   "execution_count": 8,
   "id": "6430ea86",
   "metadata": {},
   "outputs": [],
   "source": [
    "# As we can observe, our optimal policy tells us to perform the correct action in each state. \n",
    "# Thus, we learned how to perform the policy iteration method to compute the optimal policy."
   ]
  },
  {
   "cell_type": "code",
   "execution_count": null,
   "id": "db7d6f45",
   "metadata": {},
   "outputs": [],
   "source": []
  }
 ],
 "metadata": {
  "kernelspec": {
   "display_name": "Python 3 (ipykernel)",
   "language": "python",
   "name": "python3"
  },
  "language_info": {
   "codemirror_mode": {
    "name": "ipython",
    "version": 3
   },
   "file_extension": ".py",
   "mimetype": "text/x-python",
   "name": "python",
   "nbconvert_exporter": "python",
   "pygments_lexer": "ipython3",
   "version": "3.9.12"
  }
 },
 "nbformat": 4,
 "nbformat_minor": 5
}
