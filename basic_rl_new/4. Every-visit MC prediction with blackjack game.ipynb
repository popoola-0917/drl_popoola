{
 "cells": [
  {
   "cell_type": "code",
   "execution_count": 1,
   "id": "8c6e7c36",
   "metadata": {},
   "outputs": [],
   "source": [
    "# How to implement the every-visit MC prediction with the blackjack game step by step:"
   ]
  },
  {
   "cell_type": "markdown",
   "id": "9fce5914",
   "metadata": {},
   "source": [
    "# Import libraries"
   ]
  },
  {
   "cell_type": "code",
   "execution_count": 2,
   "id": "e9a7451d",
   "metadata": {},
   "outputs": [],
   "source": [
    "# Import libraries\n",
    "import gym\n",
    "import pandas as pd\n",
    "from collections import defaultdict"
   ]
  },
  {
   "cell_type": "code",
   "execution_count": 3,
   "id": "a2113909",
   "metadata": {},
   "outputs": [],
   "source": [
    "# Create a blackjack environment:\n",
    "env = gym.make('Blackjack-v1')"
   ]
  },
  {
   "cell_type": "code",
   "execution_count": null,
   "id": "fadede0c",
   "metadata": {},
   "outputs": [],
   "source": []
  },
  {
   "cell_type": "code",
   "execution_count": null,
   "id": "3bc18ca3",
   "metadata": {},
   "outputs": [],
   "source": []
  },
  {
   "cell_type": "markdown",
   "id": "56afb5ce",
   "metadata": {},
   "source": [
    "# Defining a policy"
   ]
  },
  {
   "cell_type": "code",
   "execution_count": 4,
   "id": "6b92f327",
   "metadata": {},
   "outputs": [],
   "source": [
    "# We define the input policy whose value function will be predicted in the upcoming steps.\n",
    "def policy(state):\n",
    "    return 0 if state[0] > 19 else 1"
   ]
  },
  {
   "cell_type": "code",
   "execution_count": 5,
   "id": "42dabd51",
   "metadata": {},
   "outputs": [
    {
     "name": "stdout",
     "output_type": "stream",
     "text": [
      "(12, 10, False)\n"
     ]
    }
   ],
   "source": [
    "# let's generate an initial state by resetting the environment as shown below:\n",
    "\n",
    "state = env.reset()\n",
    "print(state)"
   ]
  },
  {
   "cell_type": "code",
   "execution_count": 6,
   "id": "4ac67435",
   "metadata": {},
   "outputs": [
    {
     "name": "stdout",
     "output_type": "stream",
     "text": [
      "1\n"
     ]
    }
   ],
   "source": [
    "print(policy(state))"
   ]
  },
  {
   "cell_type": "code",
   "execution_count": null,
   "id": "0693c205",
   "metadata": {},
   "outputs": [],
   "source": []
  },
  {
   "cell_type": "markdown",
   "id": "1100919a",
   "metadata": {},
   "source": [
    "# Generating an episode"
   ]
  },
  {
   "cell_type": "code",
   "execution_count": 7,
   "id": "296a5998",
   "metadata": {},
   "outputs": [],
   "source": [
    "# Next, we generate an episode using the given policy, \n",
    "# so, we, define a function called generate_episode which takes \n",
    "# the policy as an input and generates the episode using the given policy.\n",
    "\n",
    "# First, let's set the number of time steps:\n",
    "num_timestep = 100"
   ]
  },
  {
   "cell_type": "code",
   "execution_count": 8,
   "id": "26279985",
   "metadata": {},
   "outputs": [],
   "source": [
    "def generate_episode(policy):\n",
    "    \n",
    "    #let's define a list called episode for storing the episode\n",
    "    episode = []\n",
    "    \n",
    "    #initialize the state by resetting the environment\n",
    "    state = env.reset()\n",
    "    \n",
    "    #then for each time step\n",
    "    for i in range(num_timestep):\n",
    "        \n",
    "        #select the action according to the given policy\n",
    "        action = policy(state)\n",
    "        \n",
    "        #perform the action and store the next state information\n",
    "        next_state, reward, done, info = env.step(action)\n",
    "        \n",
    "        #store the state, action, reward into our episode list\n",
    "        episode.append((state, action, reward))\n",
    "        \n",
    "        #If the next state is a final state then break the loop else update the next state to the current state\n",
    "        if done:\n",
    "            break\n",
    "            \n",
    "        state = next_state\n",
    "\n",
    "    return episode"
   ]
  },
  {
   "cell_type": "code",
   "execution_count": 9,
   "id": "9f312c12",
   "metadata": {},
   "outputs": [
    {
     "data": {
      "text/plain": [
       "[((18, 6, False), 1, -1.0)]"
      ]
     },
     "execution_count": 9,
     "metadata": {},
     "output_type": "execute_result"
    }
   ],
   "source": [
    "generate_episode(policy)\n",
    "# The output will be in the form of [(state, action, reward)]"
   ]
  },
  {
   "cell_type": "code",
   "execution_count": null,
   "id": "e312b293",
   "metadata": {},
   "outputs": [],
   "source": []
  },
  {
   "cell_type": "markdown",
   "id": "068db902",
   "metadata": {},
   "source": [
    "# Computing the value function"
   ]
  },
  {
   "cell_type": "code",
   "execution_count": 10,
   "id": "f8d5174a",
   "metadata": {},
   "outputs": [],
   "source": [
    "# First, we define the total_return and N as a dictionary \n",
    "# for storing the total return and the number of times the state is visited \n",
    "# across episodes respectively.\n",
    "\n",
    "total_return = defaultdict(float)\n",
    "N = defaultdict(int)"
   ]
  },
  {
   "cell_type": "code",
   "execution_count": 11,
   "id": "ad6d6a8a",
   "metadata": {},
   "outputs": [],
   "source": [
    "# Set the number of iterations\n",
    "num_iterations = 500000"
   ]
  },
  {
   "cell_type": "code",
   "execution_count": 12,
   "id": "c2101d04",
   "metadata": {},
   "outputs": [],
   "source": [
    "# For every iteration\n",
    "for i in range(num_iterations):\n",
    "    \n",
    "    #generate the episode using the given policy,\n",
    "    episode = generate_episode(policy)\n",
    "    \n",
    "    #store all the states, actions, rewards obtained from the episode\n",
    "    states, actions, rewards = zip(*episode)\n",
    "    \n",
    "    #then for each step in the episode \n",
    "    for t, state in enumerate(states):\n",
    "        \n",
    "            #compute the return R of the state as the sum of reward\n",
    "            R = (sum(rewards[t:]))\n",
    "            \n",
    "            #update the total_return of the state\n",
    "            total_return[state] =  total_return[state] + R\n",
    "            \n",
    "            #update the number of times the state is visited in the episode\n",
    "            N[state] =  N[state] + 1"
   ]
  },
  {
   "cell_type": "code",
   "execution_count": 13,
   "id": "da409071",
   "metadata": {},
   "outputs": [],
   "source": [
    "# After computing the total_return and N We can just convert them into a pandas data frame \n",
    "# for a better understanding. [Note that this is just to give a clear understanding \n",
    "# of the algorithm, we don't necessarily have to convert to the pandas data frame, \n",
    "# we can also implement this efficiently just using the dictionary]"
   ]
  },
  {
   "cell_type": "code",
   "execution_count": 14,
   "id": "23619ad4",
   "metadata": {},
   "outputs": [],
   "source": [
    "# Convert total_return dictionary to a data frame:\n",
    "\n",
    "total_return = pd.DataFrame(total_return.items(),columns=['state', 'total_return'])"
   ]
  },
  {
   "cell_type": "code",
   "execution_count": 15,
   "id": "02b7b906",
   "metadata": {},
   "outputs": [],
   "source": [
    "# Convert the counter N dictionary to a data frame\n",
    "N = pd.DataFrame(N.items(),columns=['state', 'N'])"
   ]
  },
  {
   "cell_type": "code",
   "execution_count": 16,
   "id": "e23823b6",
   "metadata": {},
   "outputs": [],
   "source": [
    "# Merge the two data frames on states:\n",
    "df = pd.merge(total_return, N, on=\"state\")"
   ]
  },
  {
   "cell_type": "code",
   "execution_count": 17,
   "id": "2ac3551b",
   "metadata": {},
   "outputs": [
    {
     "data": {
      "text/html": [
       "<div>\n",
       "<style scoped>\n",
       "    .dataframe tbody tr th:only-of-type {\n",
       "        vertical-align: middle;\n",
       "    }\n",
       "\n",
       "    .dataframe tbody tr th {\n",
       "        vertical-align: top;\n",
       "    }\n",
       "\n",
       "    .dataframe thead th {\n",
       "        text-align: right;\n",
       "    }\n",
       "</style>\n",
       "<table border=\"1\" class=\"dataframe\">\n",
       "  <thead>\n",
       "    <tr style=\"text-align: right;\">\n",
       "      <th></th>\n",
       "      <th>state</th>\n",
       "      <th>total_return</th>\n",
       "      <th>N</th>\n",
       "    </tr>\n",
       "  </thead>\n",
       "  <tbody>\n",
       "    <tr>\n",
       "      <th>0</th>\n",
       "      <td>(19, 2, False)</td>\n",
       "      <td>-3987.0</td>\n",
       "      <td>5464</td>\n",
       "    </tr>\n",
       "    <tr>\n",
       "      <th>1</th>\n",
       "      <td>(16, 7, False)</td>\n",
       "      <td>-3202.0</td>\n",
       "      <td>5065</td>\n",
       "    </tr>\n",
       "    <tr>\n",
       "      <th>2</th>\n",
       "      <td>(17, 7, False)</td>\n",
       "      <td>-3631.0</td>\n",
       "      <td>5314</td>\n",
       "    </tr>\n",
       "    <tr>\n",
       "      <th>3</th>\n",
       "      <td>(20, 10, False)</td>\n",
       "      <td>13316.0</td>\n",
       "      <td>30062</td>\n",
       "    </tr>\n",
       "    <tr>\n",
       "      <th>4</th>\n",
       "      <td>(19, 7, True)</td>\n",
       "      <td>-314.0</td>\n",
       "      <td>861</td>\n",
       "    </tr>\n",
       "    <tr>\n",
       "      <th>5</th>\n",
       "      <td>(15, 7, False)</td>\n",
       "      <td>-3214.0</td>\n",
       "      <td>5148</td>\n",
       "    </tr>\n",
       "    <tr>\n",
       "      <th>6</th>\n",
       "      <td>(8, 3, False)</td>\n",
       "      <td>-679.0</td>\n",
       "      <td>1238</td>\n",
       "    </tr>\n",
       "    <tr>\n",
       "      <th>7</th>\n",
       "      <td>(19, 3, True)</td>\n",
       "      <td>-393.0</td>\n",
       "      <td>844</td>\n",
       "    </tr>\n",
       "    <tr>\n",
       "      <th>8</th>\n",
       "      <td>(19, 3, False)</td>\n",
       "      <td>-4104.0</td>\n",
       "      <td>5628</td>\n",
       "    </tr>\n",
       "    <tr>\n",
       "      <th>9</th>\n",
       "      <td>(20, 8, False)</td>\n",
       "      <td>5836.0</td>\n",
       "      <td>7455</td>\n",
       "    </tr>\n",
       "  </tbody>\n",
       "</table>\n",
       "</div>"
      ],
      "text/plain": [
       "             state  total_return      N\n",
       "0   (19, 2, False)       -3987.0   5464\n",
       "1   (16, 7, False)       -3202.0   5065\n",
       "2   (17, 7, False)       -3631.0   5314\n",
       "3  (20, 10, False)       13316.0  30062\n",
       "4    (19, 7, True)        -314.0    861\n",
       "5   (15, 7, False)       -3214.0   5148\n",
       "6    (8, 3, False)        -679.0   1238\n",
       "7    (19, 3, True)        -393.0    844\n",
       "8   (19, 3, False)       -4104.0   5628\n",
       "9   (20, 8, False)        5836.0   7455"
      ]
     },
     "execution_count": 17,
     "metadata": {},
     "output_type": "execute_result"
    }
   ],
   "source": [
    "# Take a Look at the first few rows of the data frame:\n",
    "\n",
    "df.head(10)"
   ]
  },
  {
   "cell_type": "code",
   "execution_count": 18,
   "id": "af32d391",
   "metadata": {},
   "outputs": [],
   "source": [
    "# Next, we can compute the value of the state as the average return\n",
    "\n",
    "df['value'] = df['total_return']/df['N']"
   ]
  },
  {
   "cell_type": "code",
   "execution_count": 19,
   "id": "10fbe7f0",
   "metadata": {},
   "outputs": [
    {
     "data": {
      "text/html": [
       "<div>\n",
       "<style scoped>\n",
       "    .dataframe tbody tr th:only-of-type {\n",
       "        vertical-align: middle;\n",
       "    }\n",
       "\n",
       "    .dataframe tbody tr th {\n",
       "        vertical-align: top;\n",
       "    }\n",
       "\n",
       "    .dataframe thead th {\n",
       "        text-align: right;\n",
       "    }\n",
       "</style>\n",
       "<table border=\"1\" class=\"dataframe\">\n",
       "  <thead>\n",
       "    <tr style=\"text-align: right;\">\n",
       "      <th></th>\n",
       "      <th>state</th>\n",
       "      <th>total_return</th>\n",
       "      <th>N</th>\n",
       "      <th>value</th>\n",
       "    </tr>\n",
       "  </thead>\n",
       "  <tbody>\n",
       "    <tr>\n",
       "      <th>0</th>\n",
       "      <td>(19, 2, False)</td>\n",
       "      <td>-3987.0</td>\n",
       "      <td>5464</td>\n",
       "      <td>-0.729685</td>\n",
       "    </tr>\n",
       "    <tr>\n",
       "      <th>1</th>\n",
       "      <td>(16, 7, False)</td>\n",
       "      <td>-3202.0</td>\n",
       "      <td>5065</td>\n",
       "      <td>-0.632182</td>\n",
       "    </tr>\n",
       "    <tr>\n",
       "      <th>2</th>\n",
       "      <td>(17, 7, False)</td>\n",
       "      <td>-3631.0</td>\n",
       "      <td>5314</td>\n",
       "      <td>-0.683289</td>\n",
       "    </tr>\n",
       "    <tr>\n",
       "      <th>3</th>\n",
       "      <td>(20, 10, False)</td>\n",
       "      <td>13316.0</td>\n",
       "      <td>30062</td>\n",
       "      <td>0.442951</td>\n",
       "    </tr>\n",
       "    <tr>\n",
       "      <th>4</th>\n",
       "      <td>(19, 7, True)</td>\n",
       "      <td>-314.0</td>\n",
       "      <td>861</td>\n",
       "      <td>-0.364692</td>\n",
       "    </tr>\n",
       "    <tr>\n",
       "      <th>5</th>\n",
       "      <td>(15, 7, False)</td>\n",
       "      <td>-3214.0</td>\n",
       "      <td>5148</td>\n",
       "      <td>-0.624320</td>\n",
       "    </tr>\n",
       "    <tr>\n",
       "      <th>6</th>\n",
       "      <td>(8, 3, False)</td>\n",
       "      <td>-679.0</td>\n",
       "      <td>1238</td>\n",
       "      <td>-0.548465</td>\n",
       "    </tr>\n",
       "    <tr>\n",
       "      <th>7</th>\n",
       "      <td>(19, 3, True)</td>\n",
       "      <td>-393.0</td>\n",
       "      <td>844</td>\n",
       "      <td>-0.465640</td>\n",
       "    </tr>\n",
       "    <tr>\n",
       "      <th>8</th>\n",
       "      <td>(19, 3, False)</td>\n",
       "      <td>-4104.0</td>\n",
       "      <td>5628</td>\n",
       "      <td>-0.729211</td>\n",
       "    </tr>\n",
       "    <tr>\n",
       "      <th>9</th>\n",
       "      <td>(20, 8, False)</td>\n",
       "      <td>5836.0</td>\n",
       "      <td>7455</td>\n",
       "      <td>0.782830</td>\n",
       "    </tr>\n",
       "  </tbody>\n",
       "</table>\n",
       "</div>"
      ],
      "text/plain": [
       "             state  total_return      N     value\n",
       "0   (19, 2, False)       -3987.0   5464 -0.729685\n",
       "1   (16, 7, False)       -3202.0   5065 -0.632182\n",
       "2   (17, 7, False)       -3631.0   5314 -0.683289\n",
       "3  (20, 10, False)       13316.0  30062  0.442951\n",
       "4    (19, 7, True)        -314.0    861 -0.364692\n",
       "5   (15, 7, False)       -3214.0   5148 -0.624320\n",
       "6    (8, 3, False)        -679.0   1238 -0.548465\n",
       "7    (19, 3, True)        -393.0    844 -0.465640\n",
       "8   (19, 3, False)       -4104.0   5628 -0.729211\n",
       "9   (20, 8, False)        5836.0   7455  0.782830"
      ]
     },
     "execution_count": 19,
     "metadata": {},
     "output_type": "execute_result"
    }
   ],
   "source": [
    "# Let's look at the first few rows of the data frame:\n",
    "df.head(10)"
   ]
  },
  {
   "cell_type": "code",
   "execution_count": 20,
   "id": "35b6c256",
   "metadata": {},
   "outputs": [
    {
     "data": {
      "text/plain": [
       "array([0.9412971])"
      ]
     },
     "execution_count": 20,
     "metadata": {},
     "output_type": "execute_result"
    }
   ],
   "source": [
    "# Let's evaluate the value of the state (21,9,False)\n",
    "df[df['state']==(21,9,False)]['value'].values"
   ]
  },
  {
   "cell_type": "code",
   "execution_count": 21,
   "id": "3dbe6681",
   "metadata": {},
   "outputs": [
    {
     "data": {
      "text/plain": [
       "array([-0.48636364])"
      ]
     },
     "execution_count": 21,
     "metadata": {},
     "output_type": "execute_result"
    }
   ],
   "source": [
    "# let's check the value of the state (16,8,False) \n",
    "df[df['state']==(16,8,False)]['value'].values"
   ]
  },
  {
   "cell_type": "code",
   "execution_count": null,
   "id": "97a70e17",
   "metadata": {},
   "outputs": [],
   "source": []
  }
 ],
 "metadata": {
  "kernelspec": {
   "display_name": "Python 3 (ipykernel)",
   "language": "python",
   "name": "python3"
  },
  "language_info": {
   "codemirror_mode": {
    "name": "ipython",
    "version": 3
   },
   "file_extension": ".py",
   "mimetype": "text/x-python",
   "name": "python",
   "nbconvert_exporter": "python",
   "pygments_lexer": "ipython3",
   "version": "3.9.12"
  }
 },
 "nbformat": 4,
 "nbformat_minor": 5
}
