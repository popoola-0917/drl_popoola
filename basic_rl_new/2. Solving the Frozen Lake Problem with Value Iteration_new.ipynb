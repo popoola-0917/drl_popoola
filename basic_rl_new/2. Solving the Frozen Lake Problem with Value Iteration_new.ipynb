{
 "cells": [
  {
   "cell_type": "code",
   "execution_count": 1,
   "id": "f62c747c",
   "metadata": {},
   "outputs": [],
   "source": [
    "# Import libraries\n",
    "#!pip install --user gym\n",
    "import gym\n",
    "import numpy as np"
   ]
  },
  {
   "cell_type": "code",
   "execution_count": 3,
   "id": "348833e0",
   "metadata": {},
   "outputs": [],
   "source": [
    "# Create the environment\n",
    "env = gym.make('FrozenLake-v1')"
   ]
  },
  {
   "cell_type": "code",
   "execution_count": null,
   "id": "2c61388e",
   "metadata": {},
   "outputs": [],
   "source": [
    "# Render the environment\n",
    "# env.render()"
   ]
  },
  {
   "cell_type": "code",
   "execution_count": 4,
   "id": "6b9dd47f",
   "metadata": {},
   "outputs": [],
   "source": [
    "# Computing optimal value function\n",
    "# We will define a function called value_iteration where we compute the \n",
    "# optimal value function iteratively by taking maximum over Q function. \n",
    "# Define value_iteration function which takes the environment as a parameter:\n",
    "\n",
    "def value_iteration(env):\n",
    "\n",
    "    #set the number of iterations\n",
    "    num_iterations = 1000\n",
    "    \n",
    "    #set the threshold number for checking the convergence of the value function\n",
    "    threshold = 1e-20\n",
    "    \n",
    "    #set the discount factor\n",
    "    gamma = 1.0\n",
    "    \n",
    "    # Initialize the value table, with the value of all states to zero\n",
    "    value_table = np.zeros(env.observation_space.n)\n",
    "    \n",
    "    # for every iteration\n",
    "    for i in range(num_iterations):\n",
    "        \n",
    "        # update the value table\n",
    "        updated_value_table = np.copy(value_table)              \n",
    "       \n",
    "        \n",
    "        # For each state, we compute the Q values of all the actions in the state and then\n",
    "        # we update the value of the state as the one which has maximum Q value as shown below:\n",
    "        for s in range(env.observation_space.n):\n",
    "            \n",
    "            Q_values = [sum([prob*(r + gamma * updated_value_table[s_])\n",
    "                             for prob, s_, r, _ in env.P[s][a]]) \n",
    "                                   for a in range(env.action_space.n)] \n",
    "                                        \n",
    "            value_table[s] = max(Q_values) \n",
    "                        \n",
    "        # Check whether the difference between value table obtained in the current iteration \n",
    "        # and previous iteration is less than or equal to a threshold value.   \n",
    "    \n",
    "        # if it is less \n",
    "        if (np.sum(np.fabs(updated_value_table - value_table)) <= threshold):\n",
    "            \n",
    "            # then break the loop\n",
    "             break\n",
    "    \n",
    "    # Return the value table as our optimal value function    \n",
    "    return value_table\n",
    "\n"
   ]
  },
  {
   "cell_type": "code",
   "execution_count": 5,
   "id": "f0186485",
   "metadata": {},
   "outputs": [],
   "source": [
    "# Extracting optimal policy from the optimal value function\n",
    "# First, we define a function called extract_policy which takes the value_table as a parameter:\n",
    "def extract_policy(value_table):\n",
    "    \n",
    "    #set the discount factor\n",
    "    gamma = 1.0\n",
    "     \n",
    "    #first, we initialize the policy with zeros\n",
    "    policy = np.zeros(env.observation_space.n) \n",
    "    \n",
    "  \n",
    "    # For each state, we compute the Q values for all the actions in the state and\n",
    "    # then we extract policy by selecting the action which has maximum Q value.\n",
    "    \n",
    "    # For each state\n",
    "    for s in range(env.observation_space.n):\n",
    "        \n",
    "        # Compute the Q value of all the actions in the state\n",
    "        Q_values = [sum([prob*(r + gamma * value_table[s_])\n",
    "                             for prob, s_, r, _ in env.P[s][a]]) \n",
    "                                   for a in range(env.action_space.n)] \n",
    "                \n",
    "        # Extract policy by selecting the action which has maximum Q value\n",
    "        policy[s] = np.argmax(np.array(Q_values))        \n",
    "    \n",
    "    return policy"
   ]
  },
  {
   "cell_type": "code",
   "execution_count": 6,
   "id": "064f7936",
   "metadata": {},
   "outputs": [],
   "source": [
    "# Putting it all together\n",
    "\n",
    "# First, we compute the optimal value function using our \"value_iteration\" function \n",
    "# by passing our frozen lake environment as the parameter:\n",
    "optimal_value_function = value_iteration(env=env)"
   ]
  },
  {
   "cell_type": "code",
   "execution_count": 7,
   "id": "03a0719c",
   "metadata": {},
   "outputs": [],
   "source": [
    "# Next, we extract the optimal policy from the optimal value function using \n",
    "# our extract_policy function as shown below:\n",
    "\n",
    "optimal_policy = extract_policy(optimal_value_function)"
   ]
  },
  {
   "cell_type": "code",
   "execution_count": 8,
   "id": "52b4d64b",
   "metadata": {},
   "outputs": [
    {
     "name": "stdout",
     "output_type": "stream",
     "text": [
      "[0. 3. 3. 3. 0. 0. 0. 0. 3. 1. 0. 0. 0. 2. 1. 0.]\n"
     ]
    }
   ],
   "source": [
    "# We can print the obtained optimal policy:\n",
    "\n",
    "print(optimal_policy)"
   ]
  },
  {
   "cell_type": "code",
   "execution_count": null,
   "id": "87ee07c3",
   "metadata": {},
   "outputs": [],
   "source": []
  }
 ],
 "metadata": {
  "kernelspec": {
   "display_name": "Python 3 (ipykernel)",
   "language": "python",
   "name": "python3"
  },
  "language_info": {
   "codemirror_mode": {
    "name": "ipython",
    "version": 3
   },
   "file_extension": ".py",
   "mimetype": "text/x-python",
   "name": "python",
   "nbconvert_exporter": "python",
   "pygments_lexer": "ipython3",
   "version": "3.9.12"
  }
 },
 "nbformat": 4,
 "nbformat_minor": 5
}
