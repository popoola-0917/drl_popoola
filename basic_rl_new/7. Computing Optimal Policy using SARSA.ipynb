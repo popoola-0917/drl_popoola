{
 "cells": [
  {
   "cell_type": "code",
   "execution_count": 1,
   "id": "a3953c54",
   "metadata": {},
   "outputs": [],
   "source": [
    "#  let's implement SARSA to find the optimal policy in the frozen lake environment."
   ]
  },
  {
   "cell_type": "code",
   "execution_count": 2,
   "id": "9601679d",
   "metadata": {},
   "outputs": [],
   "source": [
    "#  Import the necessary libraries\n",
    "import gym\n",
    "import pandas as pd\n",
    "import random"
   ]
  },
  {
   "cell_type": "code",
   "execution_count": 3,
   "id": "886c830a",
   "metadata": {},
   "outputs": [],
   "source": [
    "# Creating the frozen lake environment using gym\n",
    "env = gym.make('FrozenLake-v1')"
   ]
  },
  {
   "cell_type": "code",
   "execution_count": 4,
   "id": "12ed8c3a",
   "metadata": {},
   "outputs": [],
   "source": [
    "# Define the dictionary for storing the Q value of the state-action pair\n",
    "# and we initialize the Q value of all the state-action pair to 0.0:\n",
    "Q = {}\n",
    "for s in range(env.observation_space.n):\n",
    "    for a in range(env.action_space.n):\n",
    "        Q[(s,a)] = 0.0\n",
    "\n"
   ]
  },
  {
   "cell_type": "code",
   "execution_count": 5,
   "id": "20e740db",
   "metadata": {},
   "outputs": [],
   "source": [
    "# Let's define the epsilon-greedy policy. \n",
    "# We generate a random number from the uniform distribution\n",
    "# and if the random number is less than epsilon we select the \n",
    "# random action else we select the best action which has the maximum Q value:\n",
    "\n",
    "def epsilon_greedy(state, epsilon):\n",
    "    if random.uniform(0,1) < epsilon:\n",
    "        return env.action_space.sample()\n",
    "    else:\n",
    "        return max(list(range(env.action_space.n)), key = lambda x: Q[(state,x)])\n"
   ]
  },
  {
   "cell_type": "code",
   "execution_count": 6,
   "id": "212e8f1a",
   "metadata": {},
   "outputs": [],
   "source": [
    "# Initialize the discount factor \"gamma\"  and the \n",
    "# learning rate \"alpha\"  and epsilon value\" epsilon\":\n",
    "\n",
    "alpha = 0.85\n",
    "gamma = 0.90\n",
    "epsilon = 0.8"
   ]
  },
  {
   "cell_type": "code",
   "execution_count": 7,
   "id": "0eccc89c",
   "metadata": {},
   "outputs": [],
   "source": [
    "# Define the number of episodes and number of time steps in the episode:\n",
    "\n",
    "num_episodes = 5000\n",
    "num_timesteps = 1000"
   ]
  },
  {
   "cell_type": "code",
   "execution_count": 8,
   "id": "f493f1b2",
   "metadata": {},
   "outputs": [],
   "source": [
    "# Compute the optimal policy using the SARSA update rule\n",
    "\n",
    "\n",
    "# for each episode\n",
    "for i in range(20000):\n",
    "        \n",
    "    # initialize the state by resetting the environment\n",
    "    s = env.reset()\n",
    "    \n",
    "    # select the action using the epsilon-greedy policy\n",
    "    a = epsilon_greedy(s,epsilon)\n",
    "    \n",
    "    # for each step in the episode:\n",
    "    for t in range(num_timesteps):\n",
    "\n",
    "        # perform the selected action and store the next state information: \n",
    "        s_, r, done, _ = env.step(a)\n",
    "        \n",
    "        # select the action a dash in the next state using the epsilon greedy policy:\n",
    "        a_ = epsilon_greedy(s_,epsilon) \n",
    "        \n",
    "        # compute the Q value of the state-action pair\n",
    "        Q[(s,a)] += alpha * (r + gamma * Q[(s_,a_)]-Q[(s,a)])\n",
    "        \n",
    "        # update next state to current state\n",
    "        s = s_\n",
    "        \n",
    "        # update next action to current action\n",
    "        a = a_\n",
    "\n",
    "\n",
    "        # if the current state is the terminal state then break:\n",
    "        if done:\n",
    "            break\n"
   ]
  },
  {
   "cell_type": "markdown",
   "id": "3d297815",
   "metadata": {},
   "source": [
    "Note that on every iteration we update the Q function. \n",
    "After all the iterations, we will have the optimal Q function. \n",
    "Once we have the optimal Q function then we can extract the optimal policy \n",
    "by selecting the action which has maximum Q value in each state."
   ]
  }
 ],
 "metadata": {
  "kernelspec": {
   "display_name": "Python 3 (ipykernel)",
   "language": "python",
   "name": "python3"
  },
  "language_info": {
   "codemirror_mode": {
    "name": "ipython",
    "version": 3
   },
   "file_extension": ".py",
   "mimetype": "text/x-python",
   "name": "python",
   "nbconvert_exporter": "python",
   "pygments_lexer": "ipython3",
   "version": "3.9.12"
  }
 },
 "nbformat": 4,
 "nbformat_minor": 5
}
