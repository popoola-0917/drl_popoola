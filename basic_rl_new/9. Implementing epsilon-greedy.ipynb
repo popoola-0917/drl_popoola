{
 "cells": [
  {
   "cell_type": "markdown",
   "id": "f2b95ef6",
   "metadata": {},
   "source": [
    "Implementing epsilon-greedy"
   ]
  },
  {
   "cell_type": "markdown",
   "id": "7d8d68b4",
   "metadata": {},
   "source": [
    " Let's learn how to implement the epsilon-greedy method to find the best arm."
   ]
  },
  {
   "cell_type": "code",
   "execution_count": 2,
   "id": "1cf7be61",
   "metadata": {},
   "outputs": [
    {
     "name": "stdout",
     "output_type": "stream",
     "text": [
      "Collecting gym-bandits\n"
     ]
    },
    {
     "name": "stderr",
     "output_type": "stream",
     "text": [
      "  WARNING: Retrying (Retry(total=4, connect=None, read=None, redirect=None, status=None)) after connection broken by 'ConnectTimeoutError(<pip._vendor.urllib3.connection.HTTPSConnection object at 0x000001B09EC3B430>, 'Connection to files.pythonhosted.org timed out. (connect timeout=15)')': /packages/e7/0e/9212772740f18a1e057a392ecdd78f9034b36f3e608a145d3e16cdb7862e/gym_bandits-0.0.1-py3-none-any.whl\n",
      "  WARNING: Retrying (Retry(total=3, connect=None, read=None, redirect=None, status=None)) after connection broken by 'ConnectTimeoutError(<pip._vendor.urllib3.connection.HTTPSConnection object at 0x000001B09EC3BB20>, 'Connection to files.pythonhosted.org timed out. (connect timeout=15)')': /packages/e7/0e/9212772740f18a1e057a392ecdd78f9034b36f3e608a145d3e16cdb7862e/gym_bandits-0.0.1-py3-none-any.whl\n",
      "  WARNING: Retrying (Retry(total=2, connect=None, read=None, redirect=None, status=None)) after connection broken by 'ConnectTimeoutError(<pip._vendor.urllib3.connection.HTTPSConnection object at 0x000001B09EC3BCA0>, 'Connection to files.pythonhosted.org timed out. (connect timeout=15)')': /packages/e7/0e/9212772740f18a1e057a392ecdd78f9034b36f3e608a145d3e16cdb7862e/gym_bandits-0.0.1-py3-none-any.whl\n",
      "  WARNING: Retrying (Retry(total=1, connect=None, read=None, redirect=None, status=None)) after connection broken by 'ConnectTimeoutError(<pip._vendor.urllib3.connection.HTTPSConnection object at 0x000001B09EC3BE20>, 'Connection to files.pythonhosted.org timed out. (connect timeout=15)')': /packages/e7/0e/9212772740f18a1e057a392ecdd78f9034b36f3e608a145d3e16cdb7862e/gym_bandits-0.0.1-py3-none-any.whl\n",
      "  WARNING: Retrying (Retry(total=0, connect=None, read=None, redirect=None, status=None)) after connection broken by 'ConnectTimeoutError(<pip._vendor.urllib3.connection.HTTPSConnection object at 0x000001B09EC3BFA0>, 'Connection to files.pythonhosted.org timed out. (connect timeout=15)')': /packages/e7/0e/9212772740f18a1e057a392ecdd78f9034b36f3e608a145d3e16cdb7862e/gym_bandits-0.0.1-py3-none-any.whl\n",
      "ERROR: Could not install packages due to an OSError: HTTPSConnectionPool(host='files.pythonhosted.org', port=443): Max retries exceeded with url: /packages/e7/0e/9212772740f18a1e057a392ecdd78f9034b36f3e608a145d3e16cdb7862e/gym_bandits-0.0.1-py3-none-any.whl (Caused by ConnectTimeoutError(<pip._vendor.urllib3.connection.HTTPSConnection object at 0x000001B09EC53190>, 'Connection to files.pythonhosted.org timed out. (connect timeout=15)'))\n",
      "\n"
     ]
    },
    {
     "ename": "ModuleNotFoundError",
     "evalue": "No module named 'gym_bandits'",
     "output_type": "error",
     "traceback": [
      "\u001b[1;31m---------------------------------------------------------------------------\u001b[0m",
      "\u001b[1;31mModuleNotFoundError\u001b[0m                       Traceback (most recent call last)",
      "Input \u001b[1;32mIn [2]\u001b[0m, in \u001b[0;36m<cell line: 4>\u001b[1;34m()\u001b[0m\n\u001b[0;32m      2\u001b[0m get_ipython()\u001b[38;5;241m.\u001b[39msystem(\u001b[38;5;124m'\u001b[39m\u001b[38;5;124m pip install gym-bandits\u001b[39m\u001b[38;5;124m'\u001b[39m)\n\u001b[0;32m      3\u001b[0m \u001b[38;5;28;01mimport\u001b[39;00m \u001b[38;5;21;01mgym\u001b[39;00m\n\u001b[1;32m----> 4\u001b[0m \u001b[38;5;28;01mimport\u001b[39;00m \u001b[38;5;21;01mgym_bandits\u001b[39;00m\n\u001b[0;32m      5\u001b[0m \u001b[38;5;28;01mimport\u001b[39;00m \u001b[38;5;21;01mnumpy\u001b[39;00m \u001b[38;5;28;01mas\u001b[39;00m \u001b[38;5;21;01mnp\u001b[39;00m\n",
      "\u001b[1;31mModuleNotFoundError\u001b[0m: No module named 'gym_bandits'"
     ]
    }
   ],
   "source": [
    "#  import the necessary libraries\n",
    "! pip install gym-bandits\n",
    "import gym\n",
    "import gym_bandits\n",
    "import numpy as np"
   ]
  },
  {
   "cell_type": "code",
   "execution_count": null,
   "id": "82fca6eb",
   "metadata": {},
   "outputs": [],
   "source": [
    "# Creating the bandit environment\n",
    "# Create the bandit with only two arms:\n",
    "env = gym.make(\"BanditTwoArmedHighLowFixed-v0\")"
   ]
  },
  {
   "cell_type": "code",
   "execution_count": null,
   "id": "00b3ac9a",
   "metadata": {},
   "outputs": [],
   "source": [
    "# Let's check the probability distribution of the arm:\n",
    "print(env.p_dist)"
   ]
  },
  {
   "cell_type": "code",
   "execution_count": null,
   "id": "48ccbe72",
   "metadata": {},
   "outputs": [],
   "source": []
  },
  {
   "cell_type": "markdown",
   "id": "b5f4560a",
   "metadata": {},
   "source": [
    "Initialize the variables"
   ]
  },
  {
   "cell_type": "code",
   "execution_count": null,
   "id": "bb037a91",
   "metadata": {},
   "outputs": [],
   "source": [
    "# Initialize the\" count\" for storing \n",
    "# the number of times an arm is pulled:\n",
    "count = np.zeros(2)"
   ]
  },
  {
   "cell_type": "code",
   "execution_count": null,
   "id": "2095944b",
   "metadata": {},
   "outputs": [],
   "source": [
    "# Initialize the \"sum_rewards\" for storing\n",
    "# the sum of rewards of each arm:\n",
    "sum_rewards = np.zeros(2)"
   ]
  },
  {
   "cell_type": "code",
   "execution_count": null,
   "id": "716c313e",
   "metadata": {},
   "outputs": [],
   "source": [
    "# Initialize the \"Q\" for storing \n",
    "# the average reward of each arm:\n",
    "Q = np.zeros(2)"
   ]
  },
  {
   "cell_type": "code",
   "execution_count": null,
   "id": "fcf869e1",
   "metadata": {},
   "outputs": [],
   "source": [
    "# Define \"num_rounds\" - number of rounds (iterations):\n",
    "num_rounds = 100"
   ]
  },
  {
   "cell_type": "code",
   "execution_count": null,
   "id": "92c4e97b",
   "metadata": {},
   "outputs": [],
   "source": []
  },
  {
   "cell_type": "markdown",
   "id": "2fdee77e",
   "metadata": {},
   "source": [
    "Defining the epsilon-greedy method"
   ]
  },
  {
   "cell_type": "code",
   "execution_count": null,
   "id": "9e2272d6",
   "metadata": {},
   "outputs": [],
   "source": [
    "# First, we generate a random number from a uniform distribution, \n",
    "# if the random number is less than epsilon then pull the random arm \n",
    "# else we pull the best arm which has maximum average reward as shown below:\n",
    "\n",
    "    \n",
    "def epsilon_greedy(epsilon):\n",
    "    \n",
    "    if np.random.uniform(0,1) < epsilon:\n",
    "        return env.action_space.sample()\n",
    "    else:\n",
    "        return np.argmax(Q)"
   ]
  },
  {
   "cell_type": "code",
   "execution_count": null,
   "id": "2ed9a9e6",
   "metadata": {},
   "outputs": [],
   "source": []
  },
  {
   "cell_type": "markdown",
   "id": "d2be7301",
   "metadata": {},
   "source": [
    "Start pulling the arm"
   ]
  },
  {
   "cell_type": "code",
   "execution_count": null,
   "id": "72d95316",
   "metadata": {},
   "outputs": [],
   "source": [
    "# Let's play the game and try to find \n",
    "# the best arm using the epsilon-greedy method.\n",
    "for i in range(num_rounds):\n",
    "    \n",
    "    # select the arm based on the epsilon-greedy method\n",
    "    arm = epsilon_greedy(0.5)\n",
    "\n",
    "    # pull the arm and store the reward and next state information\n",
    "    next_state, reward, done, info = env.step(arm) \n",
    "\n",
    "    # increment the count of the arm by 1\n",
    "    count[arm] += 1\n",
    "    \n",
    "    # update the sum of rewards of the arm\n",
    "    sum_rewards[arm]+=reward\n",
    "\n",
    "    # update the average reward of the arm\n",
    "    Q[arm] = sum_rewards[arm]/count[arm]"
   ]
  },
  {
   "cell_type": "code",
   "execution_count": null,
   "id": "3dce239a",
   "metadata": {},
   "outputs": [],
   "source": [
    "# After all the rounds, we look at the \n",
    "# average reward obtained from each of the arms:\n",
    "\n",
    "print(Q)"
   ]
  },
  {
   "cell_type": "code",
   "execution_count": null,
   "id": "f40ec146",
   "metadata": {},
   "outputs": [],
   "source": [
    "print('The optimal arm is arm {}'.format(np.argmax(Q)+1))"
   ]
  }
 ],
 "metadata": {
  "kernelspec": {
   "display_name": "Python 3 (ipykernel)",
   "language": "python",
   "name": "python3"
  },
  "language_info": {
   "codemirror_mode": {
    "name": "ipython",
    "version": 3
   },
   "file_extension": ".py",
   "mimetype": "text/x-python",
   "name": "python",
   "nbconvert_exporter": "python",
   "pygments_lexer": "ipython3",
   "version": "3.9.12"
  }
 },
 "nbformat": 4,
 "nbformat_minor": 5
}
