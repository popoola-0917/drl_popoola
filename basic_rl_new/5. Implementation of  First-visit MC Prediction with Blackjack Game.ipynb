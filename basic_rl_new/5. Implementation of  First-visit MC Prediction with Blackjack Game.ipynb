{
 "cells": [
  {
   "cell_type": "markdown",
   "id": "6d7cbb17",
   "metadata": {},
   "source": [
    "Let's implement the first-visit MC prediction with the blackjack game step by step:"
   ]
  },
  {
   "cell_type": "code",
   "execution_count": 1,
   "id": "2207d0df",
   "metadata": {},
   "outputs": [],
   "source": [
    "# Import the necessary libraries\n",
    "\n",
    "import gym\n",
    "import pandas as pd\n",
    "from collections import defaultdict"
   ]
  },
  {
   "cell_type": "code",
   "execution_count": 2,
   "id": "d0c7ab13",
   "metadata": {},
   "outputs": [],
   "source": [
    "# Create a blackjack environment:\n",
    "env = gym.make('Blackjack-v1')"
   ]
  },
  {
   "cell_type": "markdown",
   "id": "3873fea3",
   "metadata": {},
   "source": []
  },
  {
   "cell_type": "markdown",
   "id": "bfee3388",
   "metadata": {},
   "source": [
    "Defining a policy"
   ]
  },
  {
   "cell_type": "code",
   "execution_count": 3,
   "id": "29ff24bf",
   "metadata": {},
   "outputs": [],
   "source": [
    "# We define the input policy whose value function will be predicted in the upcoming steps.\n",
    "def policy(state):\n",
    "    return 0 if state[0] > 19 else 1"
   ]
  },
  {
   "cell_type": "code",
   "execution_count": 4,
   "id": "2c2c6970",
   "metadata": {},
   "outputs": [
    {
     "name": "stdout",
     "output_type": "stream",
     "text": [
      "(17, 3, False)\n"
     ]
    }
   ],
   "source": [
    "# Let's generate an initial state by resetting the environment as shown below:\n",
    "\n",
    "state = env.reset()\n",
    "print(state)"
   ]
  },
  {
   "cell_type": "code",
   "execution_count": 5,
   "id": "a6c60a97",
   "metadata": {},
   "outputs": [
    {
     "name": "stdout",
     "output_type": "stream",
     "text": [
      "1\n"
     ]
    }
   ],
   "source": [
    "print(policy(state))"
   ]
  },
  {
   "cell_type": "markdown",
   "id": "fdaa538f",
   "metadata": {},
   "source": []
  },
  {
   "cell_type": "markdown",
   "id": "faf3205a",
   "metadata": {},
   "source": [
    "Generating an episode"
   ]
  },
  {
   "cell_type": "code",
   "execution_count": 6,
   "id": "15cf73f0",
   "metadata": {},
   "outputs": [],
   "source": [
    "# First, let's set the number of time steps:\n",
    "num_timestep = 100"
   ]
  },
  {
   "cell_type": "code",
   "execution_count": 8,
   "id": "288d6c45",
   "metadata": {},
   "outputs": [],
   "source": [
    "# We generate an episode using the given policy, so, we, define a function called \"generate_episode\" \n",
    "# which takes the policy as an input and generates the episode using the given policy.\n",
    "def generate_episode(policy):\n",
    "    \n",
    "    #let's define a list called episode for storing the episode\n",
    "    episode = []\n",
    "    \n",
    "    #initialize the state by resetting the environment\n",
    "    state = env.reset()\n",
    "    \n",
    "    #then for each time step\n",
    "    for i in range(num_timestep):\n",
    "        \n",
    "        #select the action according to the given policy\n",
    "        action = policy(state)\n",
    "        \n",
    "        #perform the action and store the next state information\n",
    "        next_state, reward, done, info = env.step(action)\n",
    "        \n",
    "        #store the state, action, reward into our episode list\n",
    "        episode.append((state, action, reward))\n",
    "        \n",
    "        #If the next state is a final state then break the loop \n",
    "        if done:\n",
    "            break\n",
    "        # else update the next state to the current state    \n",
    "        state = next_state\n",
    "\n",
    "    return episode"
   ]
  },
  {
   "cell_type": "code",
   "execution_count": 9,
   "id": "37e49698",
   "metadata": {},
   "outputs": [
    {
     "data": {
      "text/plain": [
       "[((18, 2, True), 1, 0.0), ((21, 2, True), 0, 1.0)]"
      ]
     },
     "execution_count": 9,
     "metadata": {},
     "output_type": "execute_result"
    }
   ],
   "source": [
    "# Let's take a look at how the output of our generate_episode function looks like.\n",
    "# Note that we generate episode using the policy we defined earlier:\n",
    "generate_episode(policy)"
   ]
  },
  {
   "cell_type": "markdown",
   "id": "b285b06b",
   "metadata": {},
   "source": []
  },
  {
   "cell_type": "markdown",
   "id": "9a854706",
   "metadata": {},
   "source": [
    "Computing the value function"
   ]
  },
  {
   "cell_type": "code",
   "execution_count": 10,
   "id": "01208581",
   "metadata": {},
   "outputs": [],
   "source": [
    "# First, we define the total_return and N as a dictionary \n",
    "# for storing the total return and the number of times \n",
    "# the state is visited across episodes respectively.\n",
    "total_return = defaultdict(float)\n",
    "N = defaultdict(int)\n"
   ]
  },
  {
   "cell_type": "code",
   "execution_count": 11,
   "id": "cf36ef66",
   "metadata": {},
   "outputs": [],
   "source": [
    "# Set the number of iterations:\n",
    "num_iterations = 10000"
   ]
  },
  {
   "cell_type": "code",
   "execution_count": 13,
   "id": "20aee8c7",
   "metadata": {},
   "outputs": [],
   "source": [
    "#For every iteration\n",
    "for i in range(num_iterations):\n",
    "    \n",
    "    #generate the episode using the given policy\n",
    "    episode = generate_episode(policy)\n",
    "    \n",
    "    #store all the states, actions, rewards obtained from the episode\n",
    "    states, actions, rewards = zip(*episode)\n",
    "    \n",
    "    #then, for each step in the episode\n",
    "    for t, state in enumerate(states):\n",
    "        \n",
    "        #if the state is not visited already\n",
    "        if state not in states[0:t]:\n",
    "                \n",
    "            #compute the return R of the state as the sum of reward\n",
    "            R = (sum(rewards[t:]))\n",
    "            \n",
    "            #update the total_return of the state\n",
    "            total_return[state] =  total_return[state] + R\n",
    "            \n",
    "            #update the number of times the state is visited in the episode\n",
    "            N[state] =  N[state] + 1"
   ]
  },
  {
   "cell_type": "code",
   "execution_count": 14,
   "id": "bb6188e5",
   "metadata": {},
   "outputs": [],
   "source": [
    "# After computing the total_return and N We can just convert them \n",
    "# into a pandas data frame for a better understanding.\n",
    "\n",
    "# Convert total_returns dictionary to a data frame:\n",
    "total_return = pd.DataFrame(total_return.items(),columns=['state', 'total_return'])"
   ]
  },
  {
   "cell_type": "code",
   "execution_count": 15,
   "id": "9e807740",
   "metadata": {},
   "outputs": [],
   "source": [
    "# Convert the counter N dictionary to a data frame\n",
    "N = pd.DataFrame(N.items(),columns=['state', 'N'])"
   ]
  },
  {
   "cell_type": "code",
   "execution_count": 16,
   "id": "570dc482",
   "metadata": {},
   "outputs": [],
   "source": [
    "# Merge the two data frames on states:\n",
    "df = pd.merge(total_return, N, on=\"state\")"
   ]
  },
  {
   "cell_type": "code",
   "execution_count": 18,
   "id": "f16c12b0",
   "metadata": {},
   "outputs": [
    {
     "data": {
      "text/html": [
       "<div>\n",
       "<style scoped>\n",
       "    .dataframe tbody tr th:only-of-type {\n",
       "        vertical-align: middle;\n",
       "    }\n",
       "\n",
       "    .dataframe tbody tr th {\n",
       "        vertical-align: top;\n",
       "    }\n",
       "\n",
       "    .dataframe thead th {\n",
       "        text-align: right;\n",
       "    }\n",
       "</style>\n",
       "<table border=\"1\" class=\"dataframe\">\n",
       "  <thead>\n",
       "    <tr style=\"text-align: right;\">\n",
       "      <th></th>\n",
       "      <th>state</th>\n",
       "      <th>total_return</th>\n",
       "      <th>N</th>\n",
       "    </tr>\n",
       "  </thead>\n",
       "  <tbody>\n",
       "    <tr>\n",
       "      <th>0</th>\n",
       "      <td>(15, 8, False)</td>\n",
       "      <td>-137.0</td>\n",
       "      <td>223</td>\n",
       "    </tr>\n",
       "    <tr>\n",
       "      <th>1</th>\n",
       "      <td>(17, 8, False)</td>\n",
       "      <td>-132.0</td>\n",
       "      <td>206</td>\n",
       "    </tr>\n",
       "    <tr>\n",
       "      <th>2</th>\n",
       "      <td>(20, 10, False)</td>\n",
       "      <td>533.0</td>\n",
       "      <td>1184</td>\n",
       "    </tr>\n",
       "    <tr>\n",
       "      <th>3</th>\n",
       "      <td>(19, 1, True)</td>\n",
       "      <td>-21.0</td>\n",
       "      <td>29</td>\n",
       "    </tr>\n",
       "    <tr>\n",
       "      <th>4</th>\n",
       "      <td>(19, 1, False)</td>\n",
       "      <td>-179.0</td>\n",
       "      <td>233</td>\n",
       "    </tr>\n",
       "    <tr>\n",
       "      <th>5</th>\n",
       "      <td>(17, 5, False)</td>\n",
       "      <td>-142.0</td>\n",
       "      <td>197</td>\n",
       "    </tr>\n",
       "    <tr>\n",
       "      <th>6</th>\n",
       "      <td>(21, 5, False)</td>\n",
       "      <td>125.0</td>\n",
       "      <td>138</td>\n",
       "    </tr>\n",
       "    <tr>\n",
       "      <th>7</th>\n",
       "      <td>(20, 2, False)</td>\n",
       "      <td>212.0</td>\n",
       "      <td>320</td>\n",
       "    </tr>\n",
       "    <tr>\n",
       "      <th>8</th>\n",
       "      <td>(12, 7, False)</td>\n",
       "      <td>-93.0</td>\n",
       "      <td>190</td>\n",
       "    </tr>\n",
       "    <tr>\n",
       "      <th>9</th>\n",
       "      <td>(15, 7, False)</td>\n",
       "      <td>-134.0</td>\n",
       "      <td>206</td>\n",
       "    </tr>\n",
       "  </tbody>\n",
       "</table>\n",
       "</div>"
      ],
      "text/plain": [
       "             state  total_return     N\n",
       "0   (15, 8, False)        -137.0   223\n",
       "1   (17, 8, False)        -132.0   206\n",
       "2  (20, 10, False)         533.0  1184\n",
       "3    (19, 1, True)         -21.0    29\n",
       "4   (19, 1, False)        -179.0   233\n",
       "5   (17, 5, False)        -142.0   197\n",
       "6   (21, 5, False)         125.0   138\n",
       "7   (20, 2, False)         212.0   320\n",
       "8   (12, 7, False)         -93.0   190\n",
       "9   (15, 7, False)        -134.0   206"
      ]
     },
     "execution_count": 18,
     "metadata": {},
     "output_type": "execute_result"
    }
   ],
   "source": [
    "# Take a look at the first few rows of the data frame:\n",
    "df.head(10)"
   ]
  },
  {
   "cell_type": "markdown",
   "id": "52ca6011",
   "metadata": {},
   "source": [
    "As we can observe from above, we have the total return and the number of times the state is visited."
   ]
  },
  {
   "cell_type": "code",
   "execution_count": null,
   "id": "0a020df5",
   "metadata": {},
   "outputs": [],
   "source": []
  },
  {
   "cell_type": "code",
   "execution_count": 19,
   "id": "c2488a64",
   "metadata": {},
   "outputs": [],
   "source": [
    "# Next, we can compute the value of the state as the average return, thus, we can write:\n",
    "df['value'] = df['total_return']/df['N']"
   ]
  },
  {
   "cell_type": "code",
   "execution_count": 20,
   "id": "eb652f7e",
   "metadata": {},
   "outputs": [
    {
     "data": {
      "text/html": [
       "<div>\n",
       "<style scoped>\n",
       "    .dataframe tbody tr th:only-of-type {\n",
       "        vertical-align: middle;\n",
       "    }\n",
       "\n",
       "    .dataframe tbody tr th {\n",
       "        vertical-align: top;\n",
       "    }\n",
       "\n",
       "    .dataframe thead th {\n",
       "        text-align: right;\n",
       "    }\n",
       "</style>\n",
       "<table border=\"1\" class=\"dataframe\">\n",
       "  <thead>\n",
       "    <tr style=\"text-align: right;\">\n",
       "      <th></th>\n",
       "      <th>state</th>\n",
       "      <th>total_return</th>\n",
       "      <th>N</th>\n",
       "      <th>value</th>\n",
       "    </tr>\n",
       "  </thead>\n",
       "  <tbody>\n",
       "    <tr>\n",
       "      <th>0</th>\n",
       "      <td>(15, 8, False)</td>\n",
       "      <td>-137.0</td>\n",
       "      <td>223</td>\n",
       "      <td>-0.614350</td>\n",
       "    </tr>\n",
       "    <tr>\n",
       "      <th>1</th>\n",
       "      <td>(17, 8, False)</td>\n",
       "      <td>-132.0</td>\n",
       "      <td>206</td>\n",
       "      <td>-0.640777</td>\n",
       "    </tr>\n",
       "    <tr>\n",
       "      <th>2</th>\n",
       "      <td>(20, 10, False)</td>\n",
       "      <td>533.0</td>\n",
       "      <td>1184</td>\n",
       "      <td>0.450169</td>\n",
       "    </tr>\n",
       "    <tr>\n",
       "      <th>3</th>\n",
       "      <td>(19, 1, True)</td>\n",
       "      <td>-21.0</td>\n",
       "      <td>29</td>\n",
       "      <td>-0.724138</td>\n",
       "    </tr>\n",
       "    <tr>\n",
       "      <th>4</th>\n",
       "      <td>(19, 1, False)</td>\n",
       "      <td>-179.0</td>\n",
       "      <td>233</td>\n",
       "      <td>-0.768240</td>\n",
       "    </tr>\n",
       "    <tr>\n",
       "      <th>5</th>\n",
       "      <td>(17, 5, False)</td>\n",
       "      <td>-142.0</td>\n",
       "      <td>197</td>\n",
       "      <td>-0.720812</td>\n",
       "    </tr>\n",
       "    <tr>\n",
       "      <th>6</th>\n",
       "      <td>(21, 5, False)</td>\n",
       "      <td>125.0</td>\n",
       "      <td>138</td>\n",
       "      <td>0.905797</td>\n",
       "    </tr>\n",
       "    <tr>\n",
       "      <th>7</th>\n",
       "      <td>(20, 2, False)</td>\n",
       "      <td>212.0</td>\n",
       "      <td>320</td>\n",
       "      <td>0.662500</td>\n",
       "    </tr>\n",
       "    <tr>\n",
       "      <th>8</th>\n",
       "      <td>(12, 7, False)</td>\n",
       "      <td>-93.0</td>\n",
       "      <td>190</td>\n",
       "      <td>-0.489474</td>\n",
       "    </tr>\n",
       "    <tr>\n",
       "      <th>9</th>\n",
       "      <td>(15, 7, False)</td>\n",
       "      <td>-134.0</td>\n",
       "      <td>206</td>\n",
       "      <td>-0.650485</td>\n",
       "    </tr>\n",
       "  </tbody>\n",
       "</table>\n",
       "</div>"
      ],
      "text/plain": [
       "             state  total_return     N     value\n",
       "0   (15, 8, False)        -137.0   223 -0.614350\n",
       "1   (17, 8, False)        -132.0   206 -0.640777\n",
       "2  (20, 10, False)         533.0  1184  0.450169\n",
       "3    (19, 1, True)         -21.0    29 -0.724138\n",
       "4   (19, 1, False)        -179.0   233 -0.768240\n",
       "5   (17, 5, False)        -142.0   197 -0.720812\n",
       "6   (21, 5, False)         125.0   138  0.905797\n",
       "7   (20, 2, False)         212.0   320  0.662500\n",
       "8   (12, 7, False)         -93.0   190 -0.489474\n",
       "9   (15, 7, False)        -134.0   206 -0.650485"
      ]
     },
     "execution_count": 20,
     "metadata": {},
     "output_type": "execute_result"
    }
   ],
   "source": [
    "# Take a look at the first few rows of the data frame:\n",
    "df.head(10)"
   ]
  },
  {
   "cell_type": "markdown",
   "id": "92537ade",
   "metadata": {},
   "source": [
    "As we can observe we now have the value of the state which is just the average of a return of the state across several episodes. Thus, we have successfully predicted the value function of the given policy using the first-visit MC method."
   ]
  },
  {
   "cell_type": "code",
   "execution_count": 21,
   "id": "5e48d15e",
   "metadata": {},
   "outputs": [
    {
     "data": {
      "text/plain": [
       "array([-0.76824034])"
      ]
     },
     "execution_count": 21,
     "metadata": {},
     "output_type": "execute_result"
    }
   ],
   "source": [
    "# Let's evaluate the value of the state (19,1,False)\n",
    "df[df['state']==(19,1,False)]['value'].values"
   ]
  },
  {
   "cell_type": "code",
   "execution_count": null,
   "id": "0e3dc8c5",
   "metadata": {},
   "outputs": [],
   "source": []
  }
 ],
 "metadata": {
  "kernelspec": {
   "display_name": "Python 3 (ipykernel)",
   "language": "python",
   "name": "python3"
  },
  "language_info": {
   "codemirror_mode": {
    "name": "ipython",
    "version": 3
   },
   "file_extension": ".py",
   "mimetype": "text/x-python",
   "name": "python",
   "nbconvert_exporter": "python",
   "pygments_lexer": "ipython3",
   "version": "3.9.12"
  }
 },
 "nbformat": 4,
 "nbformat_minor": 5
}
