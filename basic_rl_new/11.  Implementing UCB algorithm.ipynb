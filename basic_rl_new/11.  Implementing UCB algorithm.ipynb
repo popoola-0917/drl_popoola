{
 "cells": [
  {
   "cell_type": "markdown",
   "id": "8c3caff4",
   "metadata": {},
   "source": [
    "This program implement the UCB algorithm to find \n",
    "the best arm in a multi-arm bandit problem."
   ]
  },
  {
   "cell_type": "code",
   "execution_count": null,
   "id": "7fe43f84",
   "metadata": {},
   "outputs": [],
   "source": [
    "# Importing the necessary libraries:\n",
    "\n",
    "import gym\n",
    "import gym_bandits\n",
    "import numpy as np"
   ]
  },
  {
   "cell_type": "code",
   "execution_count": null,
   "id": "eb380238",
   "metadata": {},
   "outputs": [],
   "source": [
    "# Create the bandit environment\n",
    "env = gym.make(\"BanditTwoArmedHighLowFixed-v0\")"
   ]
  },
  {
   "cell_type": "code",
   "execution_count": null,
   "id": "180f0818",
   "metadata": {},
   "outputs": [],
   "source": [
    "# Check the probability distribution of the arm:\n",
    "print(env.p_dist)"
   ]
  },
  {
   "cell_type": "code",
   "execution_count": null,
   "id": "164b57f5",
   "metadata": {},
   "outputs": [],
   "source": [
    "# Initialize the count for storing \n",
    "# the number of times an arm is pulled:\n",
    "count = np.zeros(2)"
   ]
  },
  {
   "cell_type": "code",
   "execution_count": null,
   "id": "59c092a4",
   "metadata": {},
   "outputs": [],
   "source": [
    "# Initialize the sum_rewards for storing \n",
    "# the sum of rewards of each arm:\n",
    "sum_rewards = np.zeros(2)"
   ]
  },
  {
   "cell_type": "code",
   "execution_count": null,
   "id": "e843f9e1",
   "metadata": {},
   "outputs": [],
   "source": [
    "# Initialize Q for storing the average \n",
    "# reward of each arm:\n",
    "Q = np.zeros(2)"
   ]
  },
  {
   "cell_type": "code",
   "execution_count": null,
   "id": "6ac36897",
   "metadata": {},
   "outputs": [],
   "source": [
    "# Define num_rounds number of rounds (iterations):\n",
    "num_rounds = 100"
   ]
  },
  {
   "cell_type": "code",
   "execution_count": null,
   "id": "3ef19d20",
   "metadata": {},
   "outputs": [],
   "source": [
    "# Defining the UCB function\n",
    "def UCB(i):\n",
    "    \n",
    "    # Initialize the numpy array for storing the UCB of all the arms\n",
    "    ucb = np.zeros(2)\n",
    "    \n",
    "    # Before computing the UCB, we explore all the arms at least once, \n",
    "    # so for the first 2 rounds,we directly select the arm \n",
    "    # corresponding to the round number\n",
    "    if i < 2:\n",
    "        return i\n",
    "    \n",
    "    # if the round is greater than 10 then, \n",
    "    # we compute the UCB of all the arms as specified in the\n",
    "    # equation (1) and return the arm which has the highest UCB:\n",
    "    else:\n",
    "        for arm in range(2):\n",
    "            ucb[arm] = Q[arm] + np.sqrt((2*np.log(sum(count))) / count[arm])\n",
    "        return (np.argmax(ucb))"
   ]
  },
  {
   "cell_type": "code",
   "execution_count": null,
   "id": "f6f36dd9",
   "metadata": {},
   "outputs": [],
   "source": [
    "# Start pulling the arm\n",
    "# Let's play the game and try to \n",
    "# find the best arm using the UCB method.\n",
    "\n",
    "for i in range(num_rounds):\n",
    "    \n",
    "    # select the arm based on the UCB method\n",
    "    arm = UCB(i)\n",
    "\n",
    "    # pull the arm and store the reward and next state information\n",
    "    next_state, reward, done, info = env.step(arm) \n",
    "\n",
    "    # increment the count of the arm by 1\n",
    "    count[arm] += 1\n",
    "    \n",
    "    # update the sum of rewards of the arm\n",
    "    sum_rewards[arm]+=reward\n",
    "\n",
    "    # update the average reward of the arm\n",
    "    Q[arm] = sum_rewards[arm]/count[arm]\n",
    "    "
   ]
  },
  {
   "cell_type": "code",
   "execution_count": null,
   "id": "102f6a4e",
   "metadata": {},
   "outputs": [],
   "source": [
    "# After all the rounds, we take a look at the \n",
    "# average reward obtained from each of the arms:\n",
    "\n",
    "print(Q)"
   ]
  },
  {
   "cell_type": "code",
   "execution_count": null,
   "id": "45235fa1",
   "metadata": {},
   "outputs": [],
   "source": [
    "# We can select the optimal arm as the one \n",
    "# which has a maximum average reward.\n",
    "\n",
    "print('The optimal arm is arm {}'.format(np.argmax(Q)+1))"
   ]
  }
 ],
 "metadata": {
  "kernelspec": {
   "display_name": "Python 3 (ipykernel)",
   "language": "python",
   "name": "python3"
  },
  "language_info": {
   "codemirror_mode": {
    "name": "ipython",
    "version": 3
   },
   "file_extension": ".py",
   "mimetype": "text/x-python",
   "name": "python",
   "nbconvert_exporter": "python",
   "pygments_lexer": "ipython3",
   "version": "3.9.12"
  }
 },
 "nbformat": 4,
 "nbformat_minor": 5
}
