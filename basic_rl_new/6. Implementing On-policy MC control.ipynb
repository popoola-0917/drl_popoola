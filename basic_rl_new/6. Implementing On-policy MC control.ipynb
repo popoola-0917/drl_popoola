{
 "cells": [
  {
   "cell_type": "markdown",
   "id": "ed7999bf",
   "metadata": {},
   "source": [
    "Let's how to implement the MC control method with epsilon-greedy policy for playing the blackjack game"
   ]
  },
  {
   "cell_type": "code",
   "execution_count": 1,
   "id": "5f7ceabe",
   "metadata": {},
   "outputs": [],
   "source": [
    "# Importing the necessary libraries:\n",
    "import gym\n",
    "import pandas as pd\n",
    "from collections import defaultdict\n",
    "import random"
   ]
  },
  {
   "cell_type": "code",
   "execution_count": 2,
   "id": "b9ead088",
   "metadata": {},
   "outputs": [],
   "source": [
    "# Create a blackjack environment:\n",
    "env = gym.make('Blackjack-v1')"
   ]
  },
  {
   "cell_type": "code",
   "execution_count": 3,
   "id": "7470c5d1",
   "metadata": {},
   "outputs": [],
   "source": [
    "# Initialize the dictionary for storing the Q values:\n",
    "Q = defaultdict(float)"
   ]
  },
  {
   "cell_type": "code",
   "execution_count": 4,
   "id": "d15b4e27",
   "metadata": {},
   "outputs": [],
   "source": [
    "# Initialize the dictionary for storing \n",
    "# the total return of the state-action pair:\n",
    "total_return = defaultdict(float)"
   ]
  },
  {
   "cell_type": "code",
   "execution_count": 5,
   "id": "f7f4b0c0",
   "metadata": {},
   "outputs": [],
   "source": [
    "# Initialize the dictionary for storing \n",
    "# the count of the number of times a state-action pair is visited:\n",
    "N = defaultdict(int)"
   ]
  },
  {
   "cell_type": "markdown",
   "id": "00f06f68",
   "metadata": {},
   "source": []
  },
  {
   "cell_type": "markdown",
   "id": "670ce965",
   "metadata": {},
   "source": [
    "Define the epsilon-greedy policy"
   ]
  },
  {
   "cell_type": "code",
   "execution_count": 6,
   "id": "50362410",
   "metadata": {},
   "outputs": [],
   "source": [
    "# We define a function called epsilon_greedy_policy which takes \n",
    "# the state and Q value as an input and returns the action to be \n",
    "# performed in the given state:\n",
    "\n",
    "def epsilon_greedy_policy(state,Q):\n",
    "    \n",
    "    #set the epsilon value to 0.5\n",
    "    epsilon = 0.5\n",
    "    \n",
    "    #sample a random value from the uniform distribution, if the sampled value is less than\n",
    "    #epsilon then we select a random action else we select the best action which has maximum Q\n",
    "    #value as shown below\n",
    "    \n",
    "    if random.uniform(0,1) < epsilon:\n",
    "        return env.action_space.sample()\n",
    "    else:\n",
    "        return max(list(range(env.action_space.n)), key = lambda x: Q[(state,x)])"
   ]
  },
  {
   "cell_type": "markdown",
   "id": "81acbade",
   "metadata": {},
   "source": []
  },
  {
   "cell_type": "markdown",
   "id": "4f027c8f",
   "metadata": {},
   "source": [
    "Generating an episode"
   ]
  },
  {
   "cell_type": "code",
   "execution_count": 7,
   "id": "c18b87a8",
   "metadata": {},
   "outputs": [],
   "source": [
    "# Set the number of time steps:\n",
    "num_timesteps = 100"
   ]
  },
  {
   "cell_type": "code",
   "execution_count": 8,
   "id": "f06083b6",
   "metadata": {},
   "outputs": [],
   "source": [
    "# Let's generate an episode using the epsilon-greedy policy. \n",
    "# We define a function called generate_episode which takes \n",
    "# the Q value as an input and returns the episode.\n",
    "\n",
    "def generate_episode(Q):\n",
    "    \n",
    "    #initialize a list for storing the episode\n",
    "    episode = []\n",
    "    \n",
    "    #initialize the state using the reset function\n",
    "    state = env.reset()\n",
    "    \n",
    "    #then for each time step\n",
    "    for t in range(num_timesteps):\n",
    "        \n",
    "        #select the action according to the epsilon-greedy policy\n",
    "        action = epsilon_greedy_policy(state,Q)\n",
    "        \n",
    "        #perform the selected action and store the next state information\n",
    "        next_state, reward, done, info = env.step(action)\n",
    "        \n",
    "        # store the state, action, reward in the episode list\n",
    "        episode.append((state, action, reward))\n",
    "        \n",
    "        #if the next state is a final state  \n",
    "       \n",
    "        if done:\n",
    "            \n",
    "            # then break the loop\n",
    "            break\n",
    "        # else update the next state to the current state    \n",
    "        state = next_state\n",
    "\n",
    "    return episode"
   ]
  },
  {
   "cell_type": "markdown",
   "id": "4f1602ee",
   "metadata": {},
   "source": []
  },
  {
   "cell_type": "markdown",
   "id": "591bfd7f",
   "metadata": {},
   "source": [
    "Computing the optimal policy"
   ]
  },
  {
   "cell_type": "code",
   "execution_count": 9,
   "id": "2a5d4527",
   "metadata": {},
   "outputs": [],
   "source": [
    "# Set the number of iterations:\n",
    "num_iterations = 50000"
   ]
  },
  {
   "cell_type": "markdown",
   "id": "225031ae",
   "metadata": {},
   "source": [
    "We initialize a random policy in the first iteration and improve the policy iteratively by computing Q value. Since we extract the policy from the Q function, we don't have to explicitly define the policy. As the Q value improves the policy also improves implicitly."
   ]
  },
  {
   "cell_type": "code",
   "execution_count": 10,
   "id": "2ab0f0bf",
   "metadata": {},
   "outputs": [],
   "source": [
    "#for each iteration\n",
    "for i in range(num_iterations):\n",
    "    \n",
    "    #so, here we pass our initialized Q function to generate an episode\n",
    "    episode = generate_episode(Q)\n",
    "    \n",
    "    #get all the state-action pairs in the episode\n",
    "    all_state_action_pairs = [(s, a) for (s,a,r) in episode]\n",
    "    \n",
    "    #store all the rewards obtained in the episode in the rewards list\n",
    "    rewards = [r for (s,a,r) in episode]\n",
    "\n",
    "    #for each step in the episode \n",
    "    for t, (state, action, reward) in enumerate(episode):\n",
    "\n",
    "        #if the state-action pair is occurring for the first time in the episode\n",
    "        if not (state, action) in all_state_action_pairs[0:t]:\n",
    "            \n",
    "            #compute the return R of the state-action pair as the sum of rewards\n",
    "            R = sum(rewards[t:])\n",
    "            \n",
    "            #update total return of the state-action pair\n",
    "            total_return[(state,action)] = total_return[(state,action)] + R\n",
    "            \n",
    "            #update the number of times the state-action pair is visited\n",
    "            N[(state, action)] += 1\n",
    "\n",
    "            #compute the Q value by just taking the average\n",
    "            Q[(state,action)] = total_return[(state, action)] / N[(state, action)]"
   ]
  },
  {
   "cell_type": "markdown",
   "id": "fda80133",
   "metadata": {},
   "source": [
    "Thus on every iteration, the Q value improves and so does policy. After all the iterations, we can have a look at the Q value of each state-action in the pandas data frame for more clarity."
   ]
  },
  {
   "cell_type": "code",
   "execution_count": 12,
   "id": "1c9ef311",
   "metadata": {},
   "outputs": [],
   "source": [
    "# Let's convert the Q value dictionary to a pandas data frame:\n",
    "df = pd.DataFrame(Q.items(),columns=['state_action pair','value'])"
   ]
  },
  {
   "cell_type": "code",
   "execution_count": 13,
   "id": "3d9a75a3",
   "metadata": {},
   "outputs": [
    {
     "data": {
      "text/html": [
       "<div>\n",
       "<style scoped>\n",
       "    .dataframe tbody tr th:only-of-type {\n",
       "        vertical-align: middle;\n",
       "    }\n",
       "\n",
       "    .dataframe tbody tr th {\n",
       "        vertical-align: top;\n",
       "    }\n",
       "\n",
       "    .dataframe thead th {\n",
       "        text-align: right;\n",
       "    }\n",
       "</style>\n",
       "<table border=\"1\" class=\"dataframe\">\n",
       "  <thead>\n",
       "    <tr style=\"text-align: right;\">\n",
       "      <th></th>\n",
       "      <th>state_action pair</th>\n",
       "      <th>value</th>\n",
       "    </tr>\n",
       "  </thead>\n",
       "  <tbody>\n",
       "    <tr>\n",
       "      <th>0</th>\n",
       "      <td>((16, 8, False), 0)</td>\n",
       "      <td>-0.536122</td>\n",
       "    </tr>\n",
       "    <tr>\n",
       "      <th>1</th>\n",
       "      <td>((20, 4, False), 0)</td>\n",
       "      <td>0.571848</td>\n",
       "    </tr>\n",
       "    <tr>\n",
       "      <th>2</th>\n",
       "      <td>((18, 3, True), 0)</td>\n",
       "      <td>-0.058824</td>\n",
       "    </tr>\n",
       "    <tr>\n",
       "      <th>3</th>\n",
       "      <td>((18, 3, True), 1)</td>\n",
       "      <td>-0.058824</td>\n",
       "    </tr>\n",
       "    <tr>\n",
       "      <th>4</th>\n",
       "      <td>((16, 2, False), 0)</td>\n",
       "      <td>-0.270386</td>\n",
       "    </tr>\n",
       "    <tr>\n",
       "      <th>5</th>\n",
       "      <td>((16, 2, False), 1)</td>\n",
       "      <td>-0.515873</td>\n",
       "    </tr>\n",
       "    <tr>\n",
       "      <th>6</th>\n",
       "      <td>((10, 1, False), 0)</td>\n",
       "      <td>-0.777778</td>\n",
       "    </tr>\n",
       "    <tr>\n",
       "      <th>7</th>\n",
       "      <td>((10, 1, False), 1)</td>\n",
       "      <td>-0.347826</td>\n",
       "    </tr>\n",
       "    <tr>\n",
       "      <th>8</th>\n",
       "      <td>((18, 10, False), 0)</td>\n",
       "      <td>-0.230912</td>\n",
       "    </tr>\n",
       "    <tr>\n",
       "      <th>9</th>\n",
       "      <td>((18, 10, False), 1)</td>\n",
       "      <td>-0.733918</td>\n",
       "    </tr>\n",
       "    <tr>\n",
       "      <th>10</th>\n",
       "      <td>((5, 9, False), 1)</td>\n",
       "      <td>-0.277778</td>\n",
       "    </tr>\n",
       "  </tbody>\n",
       "</table>\n",
       "</div>"
      ],
      "text/plain": [
       "       state_action pair     value\n",
       "0    ((16, 8, False), 0) -0.536122\n",
       "1    ((20, 4, False), 0)  0.571848\n",
       "2     ((18, 3, True), 0) -0.058824\n",
       "3     ((18, 3, True), 1) -0.058824\n",
       "4    ((16, 2, False), 0) -0.270386\n",
       "5    ((16, 2, False), 1) -0.515873\n",
       "6    ((10, 1, False), 0) -0.777778\n",
       "7    ((10, 1, False), 1) -0.347826\n",
       "8   ((18, 10, False), 0) -0.230912\n",
       "9   ((18, 10, False), 1) -0.733918\n",
       "10    ((5, 9, False), 1) -0.277778"
      ]
     },
     "execution_count": 13,
     "metadata": {},
     "output_type": "execute_result"
    }
   ],
   "source": [
    "# Let's look at the first few rows of the data frame:\n",
    "df.head(11)"
   ]
  },
  {
   "cell_type": "markdown",
   "id": "44a597f1",
   "metadata": {},
   "source": [
    "As we can observe, we have the Q values for all the state-action pairs. \n",
    "Now we can extract the policy by selecting the action which has maximum Q value in each state."
   ]
  },
  {
   "cell_type": "markdown",
   "id": "ec35bc5d",
   "metadata": {},
   "source": [
    "To learn more how to select action based on this Q value, check the book under the section, implementing on-policy control."
   ]
  }
 ],
 "metadata": {
  "kernelspec": {
   "display_name": "Python 3 (ipykernel)",
   "language": "python",
   "name": "python3"
  },
  "language_info": {
   "codemirror_mode": {
    "name": "ipython",
    "version": 3
   },
   "file_extension": ".py",
   "mimetype": "text/x-python",
   "name": "python",
   "nbconvert_exporter": "python",
   "pygments_lexer": "ipython3",
   "version": "3.9.12"
  }
 },
 "nbformat": 4,
 "nbformat_minor": 5
}
