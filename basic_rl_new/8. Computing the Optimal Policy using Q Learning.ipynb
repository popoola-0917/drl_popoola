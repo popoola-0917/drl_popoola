{
 "cells": [
  {
   "cell_type": "markdown",
   "id": "979415f9",
   "metadata": {},
   "source": [
    "Computing the optimal policy using Q Learning"
   ]
  },
  {
   "cell_type": "code",
   "execution_count": 1,
   "id": "a47da17f",
   "metadata": {},
   "outputs": [],
   "source": [
    "# Let's implement Q learning to find the \n",
    "# optimal policy in the frozen lake environment:"
   ]
  },
  {
   "cell_type": "code",
   "execution_count": 2,
   "id": "43d44518",
   "metadata": {},
   "outputs": [],
   "source": [
    "# Import the necessary libraries\n",
    "import gym\n",
    "import pandas as pd\n",
    "import random\n",
    "import numpy as np"
   ]
  },
  {
   "cell_type": "code",
   "execution_count": 3,
   "id": "e8da3b42",
   "metadata": {},
   "outputs": [],
   "source": [
    "# Create the frozen lake environment using gym:\n",
    "\n",
    "env = gym.make('FrozenLake-v1')"
   ]
  },
  {
   "cell_type": "code",
   "execution_count": 4,
   "id": "9646b2df",
   "metadata": {},
   "outputs": [],
   "source": [
    "# Define the dictionary for storing the Q value of the state-action pair\n",
    "# and we initialize the Q value of all the state-action pair to 0.0:\n",
    "\n",
    "Q = {}\n",
    "for s in range(env.observation_space.n):\n",
    "    for a in range(env.action_space.n):\n",
    "        Q[(s,a)] = 0.0"
   ]
  },
  {
   "cell_type": "code",
   "execution_count": 5,
   "id": "98b51495",
   "metadata": {},
   "outputs": [],
   "source": [
    "# Now, let's define the epsilon-greedy policy.\n",
    "# We generate a random number from the uniform distribution\n",
    "# and if the random number is less than epsilon we select \n",
    "# the random action else we select the best action which has the maximum Q value:\n",
    "def epsilon_greedy(state, epsilon):\n",
    "    if random.uniform(0,1) < epsilon:\n",
    "        return env.action_space.sample()\n",
    "    else:\n",
    "        return max(list(range(env.action_space.n)), key = lambda x: Q[(state,x)])\n"
   ]
  },
  {
   "cell_type": "code",
   "execution_count": 6,
   "id": "1da9f473",
   "metadata": {},
   "outputs": [],
   "source": [
    "# Initialize the discount factor \"alpha\"  \n",
    "# and the learning rate \"gamma\"  and epsilon value \"epsilon\":\n",
    "    \n",
    "alpha = 0.85\n",
    "gamma = 0.90\n",
    "epsilon = 0.8"
   ]
  },
  {
   "cell_type": "code",
   "execution_count": 8,
   "id": "6b6e77e5",
   "metadata": {},
   "outputs": [],
   "source": [
    "# Set the number of episodes and \n",
    "# number of time steps in the episode:\n",
    "\n",
    "num_episodes = 5000\n",
    "num_steps = 1000"
   ]
  },
  {
   "cell_type": "code",
   "execution_count": 9,
   "id": "89624bb2",
   "metadata": {},
   "outputs": [],
   "source": [
    "# Compute the optimal policy using the Q learning update rule\n",
    "\n",
    "# for each episode:\n",
    "for i in range(num_episodes):\n",
    "    \n",
    "    # initialize the state by resetting the environment\n",
    "    s = env.reset()\n",
    "    \n",
    "    # for each step in the episode\n",
    "    for t in range(num_steps):\n",
    "        \n",
    "        # select the action using the epsilon-greedy policy\n",
    "        a = epsilon_greedy(s,epsilon)\n",
    "        \n",
    "        # perform the selected action and store the next state information\n",
    "        s_, r, done, _ = env.step(a)\n",
    "        \n",
    "        # first, select the action a dash which has a maximum Q value in the next state\n",
    "        a_ = np.argmax([Q[(s_, a)] for a in range(env.action_space.n)])\n",
    "    \n",
    "        # we calculate the Q value of previous state using our update rule\n",
    "        Q[(s,a)] += alpha * (r + gamma * Q[(s_,a_)]-Q[(s,a)])\n",
    "    \n",
    "        # update current state to next state\n",
    "        s = s_\n",
    "        \n",
    "        # if the current state is the terminal state then break  \n",
    "        if done:\n",
    "            break\n",
    " "
   ]
  },
  {
   "cell_type": "markdown",
   "id": "3d13d0d5",
   "metadata": {},
   "source": [
    "After all the iterations, we will have the optimal Q function.\n",
    "Then we can extract the optimal policy by selecting the action \n",
    "which has maximum Q value in each state."
   ]
  }
 ],
 "metadata": {
  "kernelspec": {
   "display_name": "Python 3 (ipykernel)",
   "language": "python",
   "name": "python3"
  },
  "language_info": {
   "codemirror_mode": {
    "name": "ipython",
    "version": 3
   },
   "file_extension": ".py",
   "mimetype": "text/x-python",
   "name": "python",
   "nbconvert_exporter": "python",
   "pygments_lexer": "ipython3",
   "version": "3.9.12"
  }
 },
 "nbformat": 4,
 "nbformat_minor": 5
}
